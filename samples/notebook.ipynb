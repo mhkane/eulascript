{
  "nbformat": 4,
  "nbformat_minor": 0,
  "metadata": {
    "colab": {
      "name": "notebook.ipynb",
      "provenance": [],
      "collapsed_sections": []
    },
    "kernelspec": {
      "name": "python3",
      "display_name": "Python 3"
    }
  },
  "cells": [
    {
      "cell_type": "markdown",
      "metadata": {
        "id": "h8ql7D3nt_q2",
        "colab_type": "text"
      },
      "source": [
        "https://github.com/Tikquuss/eulascript"
      ]
    },
    {
      "cell_type": "code",
      "metadata": {
        "id": "AfsnXJYmt__v",
        "colab_type": "code",
        "colab": {}
      },
      "source": [
        "! git clone https://github.com/Tikquuss/eulascript"
      ],
      "execution_count": null,
      "outputs": []
    },
    {
      "cell_type": "code",
      "metadata": {
        "id": "aoiJRmmXwDxU",
        "colab_type": "code",
        "colab": {}
      },
      "source": [
        "! pip install -r eulascript/requirements.txt"
      ],
      "execution_count": null,
      "outputs": []
    },
    {
      "cell_type": "code",
      "metadata": {
        "id": "pC7pizFTuxdW",
        "colab_type": "code",
        "colab": {}
      },
      "source": [
        "%env output_dir=/content\n",
        "%env path_to_eula=eulascript/samples/sample_eula.txt,eulascript/samples/sample_eula.md,eulascript/samples/sample_eula_1.pdf,eulascript/samples/sample_eula_1.docx"
      ],
      "execution_count": null,
      "outputs": []
    },
    {
      "cell_type": "code",
      "metadata": {
        "id": "h2CRkDrqu3_f",
        "colab_type": "code",
        "colab": {}
      },
      "source": [
        "%env model_folder=https://selamvp.s3.us-east-2.amazonaws.com/roberta_eula_08_17_2020\n",
        "! python eulascript/eula.py --model_folder $model_folder --path_to_eula $path_to_eula --output_dir $output_dir"
      ],
      "execution_count": null,
      "outputs": []
    },
    {
      "cell_type": "code",
      "metadata": {
        "id": "UevI1wJIVUR9",
        "colab_type": "code",
        "colab": {}
      },
      "source": [
        "%env logistic_regression=bag_of_word\n",
        "! python eulascript/eula.py --logistic_regression $logistic_regression --path_to_eula $path_to_eula --output_dir $output_dir"
      ],
      "execution_count": null,
      "outputs": []
    },
    {
      "cell_type": "markdown",
      "metadata": {
        "id": "74XV4ILIHq4C",
        "colab_type": "text"
      },
      "source": [
        "\n",
        "\n",
        "---\n"
      ]
    }
  ]
}